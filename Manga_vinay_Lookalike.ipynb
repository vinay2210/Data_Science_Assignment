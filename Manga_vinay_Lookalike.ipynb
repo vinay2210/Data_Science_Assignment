{
 "cells": [
  {
   "cell_type": "code",
   "execution_count": 14,
   "metadata": {},
   "outputs": [],
   "source": [
    "# Import necessary libraries\n",
    "import pandas as pd\n",
    "import numpy as np\n",
    "from sklearn.metrics.pairwise import cosine_similarity\n",
    "from sklearn.preprocessing import StandardScaler, OneHotEncoder\n",
    "from sklearn.compose import ColumnTransformer\n",
    "from sklearn.pipeline import Pipeline\n"
   ]
  },
  {
   "cell_type": "code",
   "execution_count": 15,
   "metadata": {},
   "outputs": [],
   "source": [
    "# Load the datasets\n",
    "customers = pd.read_csv('Customers.csv')\n",
    "products = pd.read_csv('Products.csv')\n",
    "transactions = pd.read_csv('Transactions.csv')\n"
   ]
  },
  {
   "cell_type": "code",
   "execution_count": 19,
   "metadata": {},
   "outputs": [
    {
     "name": "stdout",
     "output_type": "stream",
     "text": [
      "Customers Data:\n",
      "  CustomerID        CustomerName         Region  SignupDate\n",
      "0      C0001    Lawrence Carroll  South America  2022-07-10\n",
      "1      C0002      Elizabeth Lutz           Asia  2022-02-13\n",
      "2      C0003      Michael Rivera  South America  2024-03-07\n",
      "3      C0004  Kathleen Rodriguez  South America  2022-10-09\n",
      "4      C0005         Laura Weber           Asia  2022-08-15\n",
      "\n",
      "Products Data:\n",
      "  ProductID              ProductName     Category   Price\n",
      "0      P001     ActiveWear Biography        Books  169.30\n",
      "1      P002    ActiveWear Smartwatch  Electronics  346.30\n",
      "2      P003  ComfortLiving Biography        Books   44.12\n",
      "3      P004            BookWorld Rug   Home Decor   95.69\n",
      "4      P005          TechPro T-Shirt     Clothing  429.31\n",
      "\n",
      "Transactions Data:\n",
      "  TransactionID CustomerID ProductID      TransactionDate  Quantity  \\\n",
      "0        T00001      C0199      P067  2024-08-25 12:38:23         1   \n",
      "1        T00112      C0146      P067  2024-05-27 22:23:54         1   \n",
      "2        T00166      C0127      P067  2024-04-25 07:38:55         1   \n",
      "3        T00272      C0087      P067  2024-03-26 22:55:37         2   \n",
      "4        T00363      C0070      P067  2024-03-21 15:10:10         3   \n",
      "\n",
      "   TotalValue   Price  \n",
      "0      300.68  300.68  \n",
      "1      300.68  300.68  \n",
      "2      300.68  300.68  \n",
      "3      601.36  300.68  \n",
      "4      902.04  300.68  \n"
     ]
    }
   ],
   "source": [
    "# Display the first few rows of each dataset\n",
    "print(\"Customers Data:\")\n",
    "print(customers.head())\n",
    "print(\"\\nProducts Data:\")\n",
    "print(products.head())\n",
    "print(\"\\nTransactions Data:\")\n",
    "print(transactions.head())\n"
   ]
  },
  {
   "cell_type": "code",
   "execution_count": 20,
   "metadata": {},
   "outputs": [],
   "source": [
    "# Merge datasets to create a unified dataset\n",
    "# Merge transactions with customers on CustomerID\n",
    "data = pd.merge(transactions, customers, on='CustomerID')\n"
   ]
  },
  {
   "cell_type": "code",
   "execution_count": 21,
   "metadata": {},
   "outputs": [],
   "source": [
    "# Merge the resulting data with products on ProductID\n",
    "data = pd.merge(data, products, on='ProductID')\n"
   ]
  },
  {
   "cell_type": "code",
   "execution_count": 22,
   "metadata": {},
   "outputs": [
    {
     "name": "stdout",
     "output_type": "stream",
     "text": [
      "\n",
      "Merged Data:\n",
      "  TransactionID CustomerID ProductID      TransactionDate  Quantity  \\\n",
      "0        T00001      C0199      P067  2024-08-25 12:38:23         1   \n",
      "1        T00112      C0146      P067  2024-05-27 22:23:54         1   \n",
      "2        T00166      C0127      P067  2024-04-25 07:38:55         1   \n",
      "3        T00272      C0087      P067  2024-03-26 22:55:37         2   \n",
      "4        T00363      C0070      P067  2024-03-21 15:10:10         3   \n",
      "\n",
      "   TotalValue  Price_x     CustomerName         Region  SignupDate  \\\n",
      "0      300.68   300.68   Andrea Jenkins         Europe  2022-12-03   \n",
      "1      300.68   300.68  Brittany Harvey           Asia  2024-09-04   \n",
      "2      300.68   300.68  Kathryn Stevens         Europe  2024-04-04   \n",
      "3      601.36   300.68  Travis Campbell  South America  2024-04-11   \n",
      "4      902.04   300.68    Timothy Perez         Europe  2022-03-15   \n",
      "\n",
      "                       ProductName     Category  Price_y  \n",
      "0  ComfortLiving Bluetooth Speaker  Electronics   300.68  \n",
      "1  ComfortLiving Bluetooth Speaker  Electronics   300.68  \n",
      "2  ComfortLiving Bluetooth Speaker  Electronics   300.68  \n",
      "3  ComfortLiving Bluetooth Speaker  Electronics   300.68  \n",
      "4  ComfortLiving Bluetooth Speaker  Electronics   300.68  \n"
     ]
    }
   ],
   "source": [
    "# Display the merged dataset\n",
    "print(\"\\nMerged Data:\")\n",
    "print(data.head())\n",
    "\n"
   ]
  },
  {
   "cell_type": "code",
   "execution_count": 23,
   "metadata": {},
   "outputs": [],
   "source": [
    "# Feature Engineering\n",
    "# Create features for customer behavior\n",
    "# 1. Total spending per customer\n",
    "customer_spending = data.groupby('CustomerID')['TotalValue'].sum().reset_index()\n",
    "customer_spending.rename(columns={'TotalValue': 'TotalSpending'}, inplace=True)\n",
    "\n"
   ]
  },
  {
   "cell_type": "code",
   "execution_count": 24,
   "metadata": {},
   "outputs": [],
   "source": [
    "# 2. Number of transactions per customer\n",
    "customer_transactions = data.groupby('CustomerID')['TransactionID'].count().reset_index()\n",
    "customer_transactions.rename(columns={'TransactionID': 'TransactionCount'}, inplace=True)\n"
   ]
  },
  {
   "cell_type": "code",
   "execution_count": 25,
   "metadata": {},
   "outputs": [],
   "source": [
    "# 3. Average transaction value per customer\n",
    "customer_avg_value = data.groupby('CustomerID')['TotalValue'].mean().reset_index()\n",
    "customer_avg_value.rename(columns={'TotalValue': 'AvgTransactionValue'}, inplace=True)\n",
    "\n"
   ]
  },
  {
   "cell_type": "code",
   "execution_count": 26,
   "metadata": {},
   "outputs": [],
   "source": [
    "# 4. Favorite product category (most purchased category)\n",
    "customer_favorite_category = data.groupby(['CustomerID', 'Category']).size().reset_index(name='CategoryCount')\n",
    "customer_favorite_category = customer_favorite_category.loc[customer_favorite_category.groupby('CustomerID')['CategoryCount'].idxmax()]\n",
    "customer_favorite_category = customer_favorite_category[['CustomerID', 'Category']]\n",
    "customer_favorite_category.rename(columns={'Category': 'FavoriteCategory'}, inplace=True)\n"
   ]
  },
  {
   "cell_type": "code",
   "execution_count": 27,
   "metadata": {},
   "outputs": [],
   "source": [
    "# Merge all features into a single customer profile dataset\n",
    "customer_profile = pd.merge(customer_spending, customer_transactions, on='CustomerID')\n",
    "customer_profile = pd.merge(customer_profile, customer_avg_value, on='CustomerID')\n",
    "customer_profile = pd.merge(customer_profile, customer_favorite_category, on='CustomerID')\n",
    "\n"
   ]
  },
  {
   "cell_type": "code",
   "execution_count": 28,
   "metadata": {},
   "outputs": [],
   "source": [
    "# Add customer demographic information (from Customers.csv)\n",
    "customer_profile = pd.merge(customer_profile, customers, on='CustomerID')\n",
    "\n"
   ]
  },
  {
   "cell_type": "code",
   "execution_count": 29,
   "metadata": {},
   "outputs": [
    {
     "name": "stdout",
     "output_type": "stream",
     "text": [
      "\n",
      "Customer Profile Data:\n",
      "  CustomerID  TotalSpending  TransactionCount  AvgTransactionValue  \\\n",
      "0      C0001        3354.52                 5              670.904   \n",
      "1      C0002        1862.74                 4              465.685   \n",
      "2      C0003        2725.38                 4              681.345   \n",
      "3      C0004        5354.88                 8              669.360   \n",
      "4      C0005        2034.24                 3              678.080   \n",
      "\n",
      "  FavoriteCategory        CustomerName         Region  SignupDate  \n",
      "0      Electronics    Lawrence Carroll  South America  2022-07-10  \n",
      "1         Clothing      Elizabeth Lutz           Asia  2022-02-13  \n",
      "2       Home Decor      Michael Rivera  South America  2024-03-07  \n",
      "3            Books  Kathleen Rodriguez  South America  2022-10-09  \n",
      "4      Electronics         Laura Weber           Asia  2022-08-15  \n"
     ]
    }
   ],
   "source": [
    "# Display the final customer profile dataset\n",
    "print(\"\\nCustomer Profile Data:\")\n",
    "print(customer_profile.head())\n"
   ]
  },
  {
   "cell_type": "code",
   "execution_count": 30,
   "metadata": {},
   "outputs": [],
   "source": [
    "# Preprocessing for similarity calculation\n",
    "# Separate numerical and categorical features\n",
    "numerical_features = ['TotalSpending', 'TransactionCount', 'AvgTransactionValue']\n",
    "categorical_features = ['FavoriteCategory', 'Region']\n",
    "\n"
   ]
  },
  {
   "cell_type": "code",
   "execution_count": 31,
   "metadata": {},
   "outputs": [],
   "source": [
    "# Create a preprocessing pipeline\n",
    "preprocessor = ColumnTransformer(\n",
    "    transformers=[\n",
    "        ('num', StandardScaler(), numerical_features),\n",
    "        ('cat', OneHotEncoder(), categorical_features)\n",
    "    ])\n"
   ]
  },
  {
   "cell_type": "code",
   "execution_count": 32,
   "metadata": {},
   "outputs": [],
   "source": [
    "# Apply preprocessing to the customer profile data\n",
    "customer_features = preprocessor.fit_transform(customer_profile)\n",
    "\n"
   ]
  },
  {
   "cell_type": "code",
   "execution_count": 33,
   "metadata": {},
   "outputs": [],
   "source": [
    "# Calculate cosine similarity between customers\n",
    "similarity_matrix = cosine_similarity(customer_features)\n"
   ]
  },
  {
   "cell_type": "code",
   "execution_count": 34,
   "metadata": {},
   "outputs": [],
   "source": [
    "# Convert the similarity matrix into a DataFrame for easier lookup\n",
    "similarity_df = pd.DataFrame(similarity_matrix, index=customer_profile['CustomerID'], columns=customer_profile['CustomerID'])\n"
   ]
  },
  {
   "cell_type": "code",
   "execution_count": 35,
   "metadata": {},
   "outputs": [],
   "source": [
    "\n",
    "# Function to get top 3 similar customers\n",
    "def get_top_similar_customers(customer_id, similarity_df, top_n=3):\n",
    "    # Exclude the customer itself and get top N similar customers\n",
    "    similar_customers = similarity_df[customer_id].sort_values(ascending=False).iloc[1:top_n+1]\n",
    "    return [[similar_customers.index[i], similar_customers.iloc[i]] for i in range(top_n)]\n"
   ]
  },
  {
   "cell_type": "code",
   "execution_count": 36,
   "metadata": {},
   "outputs": [],
   "source": [
    "# Generate recommendations for the first 20 customers (C0001 - C0020)\n",
    "lookalike_map = {}\n",
    "for customer_id in customer_profile['CustomerID'][:20]:\n",
    "    similar_customers = get_top_similar_customers(customer_id, similarity_df)\n",
    "    lookalike_map[customer_id] = similar_customers\n"
   ]
  },
  {
   "cell_type": "code",
   "execution_count": 37,
   "metadata": {},
   "outputs": [],
   "source": [
    "# Convert the results to a DataFrame\n",
    "lookalike_df = pd.DataFrame(list(lookalike_map.items()), columns=['CustomerID', 'SimilarCustomers'])\n"
   ]
  },
  {
   "cell_type": "code",
   "execution_count": 38,
   "metadata": {},
   "outputs": [],
   "source": [
    "# Save the results to a CSV file\n",
    "lookalike_df.to_csv('Lookalike.csv', index=False)\n",
    "\n"
   ]
  },
  {
   "cell_type": "code",
   "execution_count": 39,
   "metadata": {},
   "outputs": [
    {
     "name": "stdout",
     "output_type": "stream",
     "text": [
      "\n",
      "Lookalike Recommendations:\n",
      "   CustomerID                                   SimilarCustomers\n",
      "0       C0001  [[C0190, 0.968215451295126], [C0048, 0.9410720...\n",
      "1       C0002  [[C0088, 0.9663574397998078], [C0134, 0.941709...\n",
      "2       C0003  [[C0052, 0.9847977904024425], [C0152, 0.926264...\n",
      "3       C0004  [[C0165, 0.9711437718179057], [C0155, 0.962082...\n",
      "4       C0005  [[C0186, 0.97879054193451], [C0146, 0.95985083...\n",
      "5       C0006  [[C0168, 0.9732537429499297], [C0171, 0.951338...\n",
      "6       C0007  [[C0140, 0.9764156563035169], [C0115, 0.934222...\n",
      "7       C0008  [[C0109, 0.8700104206236068], [C0139, 0.811768...\n",
      "8       C0009  [[C0010, 0.9760669630706748], [C0198, 0.952035...\n",
      "9       C0010  [[C0009, 0.9760669630706748], [C0111, 0.970850...\n",
      "10      C0011  [[C0137, 0.9611944701177747], [C0169, 0.920395...\n",
      "11      C0012  [[C0104, 0.9659896786844347], [C0113, 0.926666...\n",
      "12      C0013  [[C0099, 0.9855644363688849], [C0108, 0.919846...\n",
      "13      C0014  [[C0060, 0.9763044912298495], [C0151, 0.908484...\n",
      "14      C0015  [[C0036, 0.980365127065939], [C0131, 0.9746260...\n",
      "15      C0016  [[C0183, 0.9998750016492792], [C0067, 0.916865...\n",
      "16      C0017  [[C0075, 0.9694478848397574], [C0081, 0.856734...\n",
      "17      C0018  [[C0117, 0.9473518653085908], [C0185, 0.836268...\n",
      "18      C0019  [[C0121, 0.9025236295260739], [C0081, 0.831322...\n",
      "19      C0020  [[C0050, 0.8471955082476953], [C0140, 0.835980...\n"
     ]
    }
   ],
   "source": [
    "# Display the final output\n",
    "print(\"\\nLookalike Recommendations:\")\n",
    "print(lookalike_df)\n",
    "\n"
   ]
  }
 ],
 "metadata": {
  "kernelspec": {
   "display_name": "Python 3",
   "language": "python",
   "name": "python3"
  },
  "language_info": {
   "codemirror_mode": {
    "name": "ipython",
    "version": 3
   },
   "file_extension": ".py",
   "mimetype": "text/x-python",
   "name": "python",
   "nbconvert_exporter": "python",
   "pygments_lexer": "ipython3",
   "version": "3.10.12"
  }
 },
 "nbformat": 4,
 "nbformat_minor": 2
}
